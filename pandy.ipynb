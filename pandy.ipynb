{
    "cells": [
        {
            "cell_type": "code",
            "execution_count": 2,
            "source": [
                "\r\n",
                "import pandas as pd"
            ],
            "outputs": [],
            "metadata": {}
        },
        {
            "cell_type": "code",
            "execution_count": 4,
            "source": [
                "df = pd.read_csv('data/QOE.csv', nrows=100)\r\n",
                "df.head()   "
            ],
            "outputs": [
                {
                    "output_type": "execute_result",
                    "data": {
                        "text/plain": [
                            "  #RequestID NbClients BottleneckBW BottleneckDelay BottleneckLoss DASHPolicy ClientResolution RequestDuration TCPOutputPacket TCPOutputDelay TCPOutputJitter TCPOutputPloss TCPInputPacket TCPInputDelay TCPInputJitter TCPInputPloss TCPInputRetrans StdInputRate 0_InputRateVariation 5_InputRateVariation 10_InputRateVariation 25_InputRateVariation 50_InputRateVariation 75_InputRateVariation 90_InputRateVariation 95_InputRateVariation 100_InputRateVariation StdInterATimesReq 0_InterATimesReq 5_InterATimesReq 10_InterATimesReq 25_InterATimesReq 50_InterATimesReq 75_InterATimesReq 90_InterATimesReq 95_InterATimesReq 100_InterATimesReq StartUpDelay AvgDownloadRate StdDownloadRate AvgBufferLevel StdBufferLevel StallEvents RebufferingRatio StallLabel TotalStallingTime AvgTimeStallingEvents AvgQualityIndex AvgVideoBitRate AvgVideoQualityVariation AvgDownloadBitRate\n",
                            "0  1 11 15950000 1 0 RateBasedAdaptationLogic 640...                                                                                                                                                                                                                                                                                                                                                                                                                                                                                                                                                                                                                                                                                                                                                                                                                                              \n",
                            "1  2 11 15950000 1 0 RateBasedAdaptationLogic 640...                                                                                                                                                                                                                                                                                                                                                                                                                                                                                                                                                                                                                                                                                                                                                                                                                                              \n",
                            "2  3 11 15950000 1 0 RateBasedAdaptationLogic 640...                                                                                                                                                                                                                                                                                                                                                                                                                                                                                                                                                                                                                                                                                                                                                                                                                                              \n",
                            "3  4 11 15950000 1 0 RateBasedAdaptationLogic 640...                                                                                                                                                                                                                                                                                                                                                                                                                                                                                                                                                                                                                                                                                                                                                                                                                                              \n",
                            "4  5 11 15950000 1 0 RateBasedAdaptationLogic 640...                                                                                                                                                                                                                                                                                                                                                                                                                                                                                                                                                                                                                                                                                                                                                                                                                                              "
                        ],
                        "text/html": [
                            "<div>\n",
                            "<style scoped>\n",
                            "    .dataframe tbody tr th:only-of-type {\n",
                            "        vertical-align: middle;\n",
                            "    }\n",
                            "\n",
                            "    .dataframe tbody tr th {\n",
                            "        vertical-align: top;\n",
                            "    }\n",
                            "\n",
                            "    .dataframe thead th {\n",
                            "        text-align: right;\n",
                            "    }\n",
                            "</style>\n",
                            "<table border=\"1\" class=\"dataframe\">\n",
                            "  <thead>\n",
                            "    <tr style=\"text-align: right;\">\n",
                            "      <th></th>\n",
                            "      <th>#RequestID NbClients BottleneckBW BottleneckDelay BottleneckLoss DASHPolicy ClientResolution RequestDuration TCPOutputPacket TCPOutputDelay TCPOutputJitter TCPOutputPloss TCPInputPacket TCPInputDelay TCPInputJitter TCPInputPloss TCPInputRetrans StdInputRate 0_InputRateVariation 5_InputRateVariation 10_InputRateVariation 25_InputRateVariation 50_InputRateVariation 75_InputRateVariation 90_InputRateVariation 95_InputRateVariation 100_InputRateVariation StdInterATimesReq 0_InterATimesReq 5_InterATimesReq 10_InterATimesReq 25_InterATimesReq 50_InterATimesReq 75_InterATimesReq 90_InterATimesReq 95_InterATimesReq 100_InterATimesReq StartUpDelay AvgDownloadRate StdDownloadRate AvgBufferLevel StdBufferLevel StallEvents RebufferingRatio StallLabel TotalStallingTime AvgTimeStallingEvents AvgQualityIndex AvgVideoBitRate AvgVideoQualityVariation AvgDownloadBitRate</th>\n",
                            "    </tr>\n",
                            "  </thead>\n",
                            "  <tbody>\n",
                            "    <tr>\n",
                            "      <th>0</th>\n",
                            "      <td>1 11 15950000 1 0 RateBasedAdaptationLogic 640...</td>\n",
                            "    </tr>\n",
                            "    <tr>\n",
                            "      <th>1</th>\n",
                            "      <td>2 11 15950000 1 0 RateBasedAdaptationLogic 640...</td>\n",
                            "    </tr>\n",
                            "    <tr>\n",
                            "      <th>2</th>\n",
                            "      <td>3 11 15950000 1 0 RateBasedAdaptationLogic 640...</td>\n",
                            "    </tr>\n",
                            "    <tr>\n",
                            "      <th>3</th>\n",
                            "      <td>4 11 15950000 1 0 RateBasedAdaptationLogic 640...</td>\n",
                            "    </tr>\n",
                            "    <tr>\n",
                            "      <th>4</th>\n",
                            "      <td>5 11 15950000 1 0 RateBasedAdaptationLogic 640...</td>\n",
                            "    </tr>\n",
                            "  </tbody>\n",
                            "</table>\n",
                            "</div>"
                        ]
                    },
                    "metadata": {},
                    "execution_count": 4
                }
            ],
            "metadata": {}
        },
        {
            "cell_type": "code",
            "execution_count": null,
            "source": [],
            "outputs": [],
            "metadata": {}
        },
        {
            "cell_type": "code",
            "execution_count": 5,
            "source": [
                "df.info()"
            ],
            "outputs": [
                {
                    "output_type": "stream",
                    "name": "stdout",
                    "text": [
                        "<class 'pandas.core.frame.DataFrame'>\n",
                        "RangeIndex: 100 entries, 0 to 99\n",
                        "Data columns (total 1 columns):\n",
                        " #   Column                                                                                                                                                                                                                                                                                                                                                                                                                                                                                                                                                                                                                                                                                                                                                                                                                                                                                            Non-Null Count  Dtype \n",
                        "---  ------                                                                                                                                                                                                                                                                                                                                                                                                                                                                                                                                                                                                                                                                                                                                                                                                                                                                                            --------------  ----- \n",
                        " 0   #RequestID NbClients BottleneckBW BottleneckDelay BottleneckLoss DASHPolicy ClientResolution RequestDuration TCPOutputPacket TCPOutputDelay TCPOutputJitter TCPOutputPloss TCPInputPacket TCPInputDelay TCPInputJitter TCPInputPloss TCPInputRetrans StdInputRate 0_InputRateVariation 5_InputRateVariation 10_InputRateVariation 25_InputRateVariation 50_InputRateVariation 75_InputRateVariation 90_InputRateVariation 95_InputRateVariation 100_InputRateVariation StdInterATimesReq 0_InterATimesReq 5_InterATimesReq 10_InterATimesReq 25_InterATimesReq 50_InterATimesReq 75_InterATimesReq 90_InterATimesReq 95_InterATimesReq 100_InterATimesReq StartUpDelay AvgDownloadRate StdDownloadRate AvgBufferLevel StdBufferLevel StallEvents RebufferingRatio StallLabel TotalStallingTime AvgTimeStallingEvents AvgQualityIndex AvgVideoBitRate AvgVideoQualityVariation AvgDownloadBitRate  100 non-null    object\n",
                        "dtypes: object(1)\n",
                        "memory usage: 928.0+ bytes\n"
                    ]
                }
            ],
            "metadata": {}
        }
    ],
    "metadata": {
        "orig_nbformat": 4,
        "language_info": {
            "name": "python",
            "version": "3.8.3",
            "mimetype": "text/x-python",
            "codemirror_mode": {
                "name": "ipython",
                "version": 3
            },
            "pygments_lexer": "ipython3",
            "nbconvert_exporter": "python",
            "file_extension": ".py"
        },
        "kernelspec": {
            "name": "python3",
            "display_name": "Python 3.8.3 64-bit ('ven': venv)"
        },
        "interpreter": {
            "hash": "afd7a665422d7ce3555a6f4c198771aa2bb1d4f8c1fa9871c92b31dd0f6bae49"
        }
    },
    "nbformat": 4,
    "nbformat_minor": 2
}