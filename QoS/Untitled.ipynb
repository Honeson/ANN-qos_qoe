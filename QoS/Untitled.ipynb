{
 "cells": [
  {
   "cell_type": "code",
   "execution_count": null,
   "id": "8c5e8bf2",
   "metadata": {},
   "outputs": [],
   "source": []
  },
  {
   "cell_type": "code",
   "execution_count": null,
   "id": "17bf1dff",
   "metadata": {},
   "outputs": [],
   "source": []
  },
  {
   "cell_type": "code",
   "execution_count": 8,
   "id": "e168546c",
   "metadata": {},
   "outputs": [],
   "source": [
    "import pandas as pd\n",
    "pd.set_option('display.max_rows', 500)\n",
    "pd.set_option('display.max_columns', 500)\n",
    "pd.set_option('display.width', 1000)"
   ]
  },
  {
   "cell_type": "code",
   "execution_count": 3,
   "id": "2ca96f79",
   "metadata": {},
   "outputs": [
    {
     "name": "stdout",
     "output_type": "stream",
     "text": [
      "I am ready to dive right in\n"
     ]
    }
   ],
   "source": [
    "import pandas as pd\n",
    "import numpy as np\n",
    "import seaborn as sns\n",
    "import matplotlib.pyplot as plt\n",
    "print ('I am ready to dive right in')"
   ]
  },
  {
   "cell_type": "code",
   "execution_count": 4,
   "id": "5b110773",
   "metadata": {},
   "outputs": [],
   "source": [
    "pd.set_option('display.max_columns', 5000)"
   ]
  },
  {
   "cell_type": "code",
   "execution_count": 9,
   "id": "112ff287",
   "metadata": {},
   "outputs": [
    {
     "data": {
      "text/html": [
       "<div>\n",
       "<style scoped>\n",
       "    .dataframe tbody tr th:only-of-type {\n",
       "        vertical-align: middle;\n",
       "    }\n",
       "\n",
       "    .dataframe tbody tr th {\n",
       "        vertical-align: top;\n",
       "    }\n",
       "\n",
       "    .dataframe thead th {\n",
       "        text-align: right;\n",
       "    }\n",
       "</style>\n",
       "<table border=\"1\" class=\"dataframe\">\n",
       "  <thead>\n",
       "    <tr style=\"text-align: right;\">\n",
       "      <th></th>\n",
       "      <th>#RequestID NbClients BottleneckBW BottleneckDelay BottleneckLoss DASHPolicy ClientResolution RequestDuration TCPOutputPacket TCPOutputDelay TCPOutputJitter TCPOutputPloss TCPInputPacket TCPInputDelay TCPInputJitter TCPInputPloss TCPInputRetrans StdInputRate 0_InputRateVariation 5_InputRateVariation 10_InputRateVariation 25_InputRateVariation 50_InputRateVariation 75_InputRateVariation 90_InputRateVariation 95_InputRateVariation 100_InputRateVariation StdInterATimesReq 0_InterATimesReq 5_InterATimesReq 10_InterATimesReq 25_InterATimesReq 50_InterATimesReq 75_InterATimesReq 90_InterATimesReq 95_InterATimesReq 100_InterATimesReq StartUpDelay AvgDownloadRate StdDownloadRate AvgBufferLevel StdBufferLevel StallEvents RebufferingRatio StallLabel TotalStallingTime AvgTimeStallingEvents AvgQualityIndex AvgVideoBitRate AvgVideoQualityVariation AvgDownloadBitRate</th>\n",
       "    </tr>\n",
       "  </thead>\n",
       "  <tbody>\n",
       "    <tr>\n",
       "      <th>0</th>\n",
       "      <td>1 11 15950000 1 0 RateBasedAdaptationLogic 640360 70 3451 1.04339 0.00381961 0 6618 303.004 1.99269 0.00317316 12 154853  52 52 40447 106089 280930 360364 440090 472034 597040 0.616345 0.87558 0.87558 1.05874 1.3705 1.62307 1.93399 2.00698 2.22323 4.86842 5030 1.02011e+06 520844 4.42424 2.39988 0 0 NoStalling 0 0 0.590909 888242 114080 1.02011e+06</td>\n",
       "    </tr>\n",
       "    <tr>\n",
       "      <th>1</th>\n",
       "      <td>2 11 15950000 1 0 RateBasedAdaptationLogic 640360 70 3918 1.04333 0.00368674 0 7519 304.094 1.75804 0.00226094 11 142717  1560 1560 111688 193810 254768 416992 466226 521536 603690 0.657133 0.593285 1.01434 1.0567 1.315 1.48768 1.69794 1.90278 2.05544 5.05836 2182 1.10209e+06 368307 6.35294 4.3783 1 0.0114286 MildStalling 800 24.2424 0.691176 836819 120863 1.10209e+06</td>\n",
       "    </tr>\n",
       "    <tr>\n",
       "      <th>2</th>\n",
       "      <td>3 11 15950000 1 0 RateBasedAdaptationLogic 640360 70 4833 1.04291 0.00286016 0 9474 301.391 1.47002 0.00147773 13 259243  1560 1560 47916 85854 345844 624042 741654 770494 907498 0.447377 0.99329 1.04191 1.20809 1.32413 1.60474 1.8605 2.23512 2.48866 3.16831 4241 1.23625e+06 754782 6.90909 4.54182 1 0.01 MildStalling 700 21.875 0.590909 981488 121440 1.23625e+06</td>\n",
       "    </tr>\n",
       "    <tr>\n",
       "      <th>3</th>\n",
       "      <td>4 11 15950000 1 0 RateBasedAdaptationLogic 640360 70 9195 1.0422 0.00142943 0 18148 291.969 1.16039 0.000165307 3 234421  246974 246974 328620 510242 796734 907086 932694 1003314 1141963 0.34166 0.389936 0.389936 1.33011 1.67841 1.83924 1.96424 2.07954 2.24851 2.46411 685 3.07534e+06 942198 1.37143 1.14856 0 0 NoStalling 0 0 0.9 2.76334e+06 252988 3.07534e+06</td>\n",
       "    </tr>\n",
       "    <tr>\n",
       "      <th>4</th>\n",
       "      <td>5 11 15950000 1 0 RateBasedAdaptationLogic 640360 70 5766 1.04259 0.00221989 0 11144 302.531 1.48683 0.00197416 15 255711  13176 13176 108194 237010 434416 524306 779310 804590 1106078 0.585019 0.381788 0.381788 1.14718 1.53078 1.64849 1.99171 2.47226 2.7433 3.91691 1466 1.96197e+06 946472 2.68571 1.50753 0 0 NoStalling 0 0 0.75 1.71403e+06 310664 1.96197e+06</td>\n",
       "    </tr>\n",
       "  </tbody>\n",
       "</table>\n",
       "</div>"
      ],
      "text/plain": [
       "  #RequestID NbClients BottleneckBW BottleneckDelay BottleneckLoss DASHPolicy ClientResolution RequestDuration TCPOutputPacket TCPOutputDelay TCPOutputJitter TCPOutputPloss TCPInputPacket TCPInputDelay TCPInputJitter TCPInputPloss TCPInputRetrans StdInputRate 0_InputRateVariation 5_InputRateVariation 10_InputRateVariation 25_InputRateVariation 50_InputRateVariation 75_InputRateVariation 90_InputRateVariation 95_InputRateVariation 100_InputRateVariation StdInterATimesReq 0_InterATimesReq 5_InterATimesReq 10_InterATimesReq 25_InterATimesReq 50_InterATimesReq 75_InterATimesReq 90_InterATimesReq 95_InterATimesReq 100_InterATimesReq StartUpDelay AvgDownloadRate StdDownloadRate AvgBufferLevel StdBufferLevel StallEvents RebufferingRatio StallLabel TotalStallingTime AvgTimeStallingEvents AvgQualityIndex AvgVideoBitRate AvgVideoQualityVariation AvgDownloadBitRate\n",
       "0                                                                                                                                                                                                                                                                                                                                                                                                                                                                                                                                    1 11 15950000 1 0 RateBasedAdaptationLogic 640360 70 3451 1.04339 0.00381961 0 6618 303.004 1.99269 0.00317316 12 154853  52 52 40447 106089 280930 360364 440090 472034 597040 0.616345 0.87558 0.87558 1.05874 1.3705 1.62307 1.93399 2.00698 2.22323 4.86842 5030 1.02011e+06 520844 4.42424 2.39988 0 0 NoStalling 0 0 0.590909 888242 114080 1.02011e+06\n",
       "1                                                                                                                                                                                                                                                                                                                                                                                                                                                                                                               2 11 15950000 1 0 RateBasedAdaptationLogic 640360 70 3918 1.04333 0.00368674 0 7519 304.094 1.75804 0.00226094 11 142717  1560 1560 111688 193810 254768 416992 466226 521536 603690 0.657133 0.593285 1.01434 1.0567 1.315 1.48768 1.69794 1.90278 2.05544 5.05836 2182 1.10209e+06 368307 6.35294 4.3783 1 0.0114286 MildStalling 800 24.2424 0.691176 836819 120863 1.10209e+06\n",
       "2                                                                                                                                                                                                                                                                                                                                                                                                                                                                                                                     3 11 15950000 1 0 RateBasedAdaptationLogic 640360 70 4833 1.04291 0.00286016 0 9474 301.391 1.47002 0.00147773 13 259243  1560 1560 47916 85854 345844 624042 741654 770494 907498 0.447377 0.99329 1.04191 1.20809 1.32413 1.60474 1.8605 2.23512 2.48866 3.16831 4241 1.23625e+06 754782 6.90909 4.54182 1 0.01 MildStalling 700 21.875 0.590909 981488 121440 1.23625e+06\n",
       "3                                                                                                                                                                                                                                                                                                                                                                                                                                                                                                                        4 11 15950000 1 0 RateBasedAdaptationLogic 640360 70 9195 1.0422 0.00142943 0 18148 291.969 1.16039 0.000165307 3 234421  246974 246974 328620 510242 796734 907086 932694 1003314 1141963 0.34166 0.389936 0.389936 1.33011 1.67841 1.83924 1.96424 2.07954 2.24851 2.46411 685 3.07534e+06 942198 1.37143 1.14856 0 0 NoStalling 0 0 0.9 2.76334e+06 252988 3.07534e+06\n",
       "4                                                                                                                                                                                                                                                                                                                                                                                                                                                                                                                        5 11 15950000 1 0 RateBasedAdaptationLogic 640360 70 5766 1.04259 0.00221989 0 11144 302.531 1.48683 0.00197416 15 255711  13176 13176 108194 237010 434416 524306 779310 804590 1106078 0.585019 0.381788 0.381788 1.14718 1.53078 1.64849 1.99171 2.47226 2.7433 3.91691 1466 1.96197e+06 946472 2.68571 1.50753 0 0 NoStalling 0 0 0.75 1.71403e+06 310664 1.96197e+06"
      ]
     },
     "execution_count": 9,
     "metadata": {},
     "output_type": "execute_result"
    }
   ],
   "source": [
    "qos_qoe= pd.read_csv('qosqoeNew.csv')\n",
    "qos_qoe.head()"
   ]
  },
  {
   "cell_type": "code",
   "execution_count": 6,
   "id": "5bc27ddf",
   "metadata": {},
   "outputs": [],
   "source": [
    "pd.set_option('max_colwidth', None)"
   ]
  },
  {
   "cell_type": "code",
   "execution_count": 7,
   "id": "d9f0b2b6",
   "metadata": {},
   "outputs": [
    {
     "data": {
      "text/html": [
       "<div>\n",
       "<style scoped>\n",
       "    .dataframe tbody tr th:only-of-type {\n",
       "        vertical-align: middle;\n",
       "    }\n",
       "\n",
       "    .dataframe tbody tr th {\n",
       "        vertical-align: top;\n",
       "    }\n",
       "\n",
       "    .dataframe thead th {\n",
       "        text-align: right;\n",
       "    }\n",
       "</style>\n",
       "<table border=\"1\" class=\"dataframe\">\n",
       "  <thead>\n",
       "    <tr style=\"text-align: right;\">\n",
       "      <th></th>\n",
       "      <th>#RequestID NbClients BottleneckBW BottleneckDelay BottleneckLoss DASHPolicy ClientResolution RequestDuration TCPOutputPacket TCPOutputDelay TCPOutputJitter TCPOutputPloss TCPInputPacket TCPInputDelay TCPInputJitter TCPInputPloss TCPInputRetrans StdInputRate 0_InputRateVariation 5_InputRateVariation 10_InputRateVariation 25_InputRateVariation 50_InputRateVariation 75_InputRateVariation 90_InputRateVariation 95_InputRateVariation 100_InputRateVariation StdInterATimesReq 0_InterATimesReq 5_InterATimesReq 10_InterATimesReq 25_InterATimesReq 50_InterATimesReq 75_InterATimesReq 90_InterATimesReq 95_InterATimesReq 100_InterATimesReq StartUpDelay AvgDownloadRate StdDownloadRate AvgBufferLevel StdBufferLevel StallEvents RebufferingRatio StallLabel TotalStallingTime AvgTimeStallingEvents AvgQualityIndex AvgVideoBitRate AvgVideoQualityVariation AvgDownloadBitRate</th>\n",
       "    </tr>\n",
       "  </thead>\n",
       "  <tbody>\n",
       "    <tr>\n",
       "      <th>0</th>\n",
       "      <td>1 11 15950000 1 0 RateBasedAdaptationLogic 640360 70 3451 1.04339 0.00381961 0 6618 303.004 1.99269 0.00317316 12 154853  52 52 40447 106089 280930 360364 440090 472034 597040 0.616345 0.87558 0.87558 1.05874 1.3705 1.62307 1.93399 2.00698 2.22323 4.86842 5030 1.02011e+06 520844 4.42424 2.39988 0 0 NoStalling 0 0 0.590909 888242 114080 1.02011e+06</td>\n",
       "    </tr>\n",
       "    <tr>\n",
       "      <th>1</th>\n",
       "      <td>2 11 15950000 1 0 RateBasedAdaptationLogic 640360 70 3918 1.04333 0.00368674 0 7519 304.094 1.75804 0.00226094 11 142717  1560 1560 111688 193810 254768 416992 466226 521536 603690 0.657133 0.593285 1.01434 1.0567 1.315 1.48768 1.69794 1.90278 2.05544 5.05836 2182 1.10209e+06 368307 6.35294 4.3783 1 0.0114286 MildStalling 800 24.2424 0.691176 836819 120863 1.10209e+06</td>\n",
       "    </tr>\n",
       "    <tr>\n",
       "      <th>2</th>\n",
       "      <td>3 11 15950000 1 0 RateBasedAdaptationLogic 640360 70 4833 1.04291 0.00286016 0 9474 301.391 1.47002 0.00147773 13 259243  1560 1560 47916 85854 345844 624042 741654 770494 907498 0.447377 0.99329 1.04191 1.20809 1.32413 1.60474 1.8605 2.23512 2.48866 3.16831 4241 1.23625e+06 754782 6.90909 4.54182 1 0.01 MildStalling 700 21.875 0.590909 981488 121440 1.23625e+06</td>\n",
       "    </tr>\n",
       "    <tr>\n",
       "      <th>3</th>\n",
       "      <td>4 11 15950000 1 0 RateBasedAdaptationLogic 640360 70 9195 1.0422 0.00142943 0 18148 291.969 1.16039 0.000165307 3 234421  246974 246974 328620 510242 796734 907086 932694 1003314 1141963 0.34166 0.389936 0.389936 1.33011 1.67841 1.83924 1.96424 2.07954 2.24851 2.46411 685 3.07534e+06 942198 1.37143 1.14856 0 0 NoStalling 0 0 0.9 2.76334e+06 252988 3.07534e+06</td>\n",
       "    </tr>\n",
       "    <tr>\n",
       "      <th>4</th>\n",
       "      <td>5 11 15950000 1 0 RateBasedAdaptationLogic 640360 70 5766 1.04259 0.00221989 0 11144 302.531 1.48683 0.00197416 15 255711  13176 13176 108194 237010 434416 524306 779310 804590 1106078 0.585019 0.381788 0.381788 1.14718 1.53078 1.64849 1.99171 2.47226 2.7433 3.91691 1466 1.96197e+06 946472 2.68571 1.50753 0 0 NoStalling 0 0 0.75 1.71403e+06 310664 1.96197e+06</td>\n",
       "    </tr>\n",
       "  </tbody>\n",
       "</table>\n",
       "</div>"
      ],
      "text/plain": [
       "  #RequestID NbClients BottleneckBW BottleneckDelay BottleneckLoss DASHPolicy ClientResolution RequestDuration TCPOutputPacket TCPOutputDelay TCPOutputJitter TCPOutputPloss TCPInputPacket TCPInputDelay TCPInputJitter TCPInputPloss TCPInputRetrans StdInputRate 0_InputRateVariation 5_InputRateVariation 10_InputRateVariation 25_InputRateVariation 50_InputRateVariation 75_InputRateVariation 90_InputRateVariation 95_InputRateVariation 100_InputRateVariation StdInterATimesReq 0_InterATimesReq 5_InterATimesReq 10_InterATimesReq 25_InterATimesReq 50_InterATimesReq 75_InterATimesReq 90_InterATimesReq 95_InterATimesReq 100_InterATimesReq StartUpDelay AvgDownloadRate StdDownloadRate AvgBufferLevel StdBufferLevel StallEvents RebufferingRatio StallLabel TotalStallingTime AvgTimeStallingEvents AvgQualityIndex AvgVideoBitRate AvgVideoQualityVariation AvgDownloadBitRate\n",
       "0                                                                                                                                                                                                                                                                                                                                                                                                                                                                                                                                    1 11 15950000 1 0 RateBasedAdaptationLogic 640360 70 3451 1.04339 0.00381961 0 6618 303.004 1.99269 0.00317316 12 154853  52 52 40447 106089 280930 360364 440090 472034 597040 0.616345 0.87558 0.87558 1.05874 1.3705 1.62307 1.93399 2.00698 2.22323 4.86842 5030 1.02011e+06 520844 4.42424 2.39988 0 0 NoStalling 0 0 0.590909 888242 114080 1.02011e+06\n",
       "1                                                                                                                                                                                                                                                                                                                                                                                                                                                                                                               2 11 15950000 1 0 RateBasedAdaptationLogic 640360 70 3918 1.04333 0.00368674 0 7519 304.094 1.75804 0.00226094 11 142717  1560 1560 111688 193810 254768 416992 466226 521536 603690 0.657133 0.593285 1.01434 1.0567 1.315 1.48768 1.69794 1.90278 2.05544 5.05836 2182 1.10209e+06 368307 6.35294 4.3783 1 0.0114286 MildStalling 800 24.2424 0.691176 836819 120863 1.10209e+06\n",
       "2                                                                                                                                                                                                                                                                                                                                                                                                                                                                                                                     3 11 15950000 1 0 RateBasedAdaptationLogic 640360 70 4833 1.04291 0.00286016 0 9474 301.391 1.47002 0.00147773 13 259243  1560 1560 47916 85854 345844 624042 741654 770494 907498 0.447377 0.99329 1.04191 1.20809 1.32413 1.60474 1.8605 2.23512 2.48866 3.16831 4241 1.23625e+06 754782 6.90909 4.54182 1 0.01 MildStalling 700 21.875 0.590909 981488 121440 1.23625e+06\n",
       "3                                                                                                                                                                                                                                                                                                                                                                                                                                                                                                                        4 11 15950000 1 0 RateBasedAdaptationLogic 640360 70 9195 1.0422 0.00142943 0 18148 291.969 1.16039 0.000165307 3 234421  246974 246974 328620 510242 796734 907086 932694 1003314 1141963 0.34166 0.389936 0.389936 1.33011 1.67841 1.83924 1.96424 2.07954 2.24851 2.46411 685 3.07534e+06 942198 1.37143 1.14856 0 0 NoStalling 0 0 0.9 2.76334e+06 252988 3.07534e+06\n",
       "4                                                                                                                                                                                                                                                                                                                                                                                                                                                                                                                        5 11 15950000 1 0 RateBasedAdaptationLogic 640360 70 5766 1.04259 0.00221989 0 11144 302.531 1.48683 0.00197416 15 255711  13176 13176 108194 237010 434416 524306 779310 804590 1106078 0.585019 0.381788 0.381788 1.14718 1.53078 1.64849 1.99171 2.47226 2.7433 3.91691 1466 1.96197e+06 946472 2.68571 1.50753 0 0 NoStalling 0 0 0.75 1.71403e+06 310664 1.96197e+06"
      ]
     },
     "execution_count": 7,
     "metadata": {},
     "output_type": "execute_result"
    }
   ],
   "source": [
    "qos_qoe.head()"
   ]
  }
 ],
 "metadata": {
  "kernelspec": {
   "display_name": "Python 3",
   "language": "python",
   "name": "python3"
  },
  "language_info": {
   "codemirror_mode": {
    "name": "ipython",
    "version": 3
   },
   "file_extension": ".py",
   "mimetype": "text/x-python",
   "name": "python",
   "nbconvert_exporter": "python",
   "pygments_lexer": "ipython3",
   "version": "3.8.8"
  }
 },
 "nbformat": 4,
 "nbformat_minor": 5
}
