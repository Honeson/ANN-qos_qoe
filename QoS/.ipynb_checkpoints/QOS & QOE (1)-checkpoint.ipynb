{
 "cells": [
  {
   "cell_type": "code",
   "execution_count": null,
   "metadata": {},
   "outputs": [],
   "source": [
    "import pandas as pd\n",
    "import numpy as np\n",
    "import seaborn as sns\n",
    "import matplotlib.pyplot as plt\n",
    "print ('I am ready to dive right in')"
   ]
  },
  {
   "cell_type": "code",
   "execution_count": 3,
   "metadata": {},
   "outputs": [],
   "source": [
    "import os"
   ]
  },
  {
   "cell_type": "code",
   "execution_count": 4,
   "metadata": {},
   "outputs": [
    {
     "name": "stdout",
     "output_type": "stream",
     "text": [
      "c:\\Users\\SUNNY\\All_Codes\\TimeSeries_ANN\\QoS\n"
     ]
    }
   ],
   "source": [
    "print(os.getcwd())"
   ]
  },
  {
   "cell_type": "markdown",
   "metadata": {},
   "source": [
    "Step 1:Importing the Dataset named qosqoeNew.csv and checking the first 20 rows"
   ]
  },
  {
   "cell_type": "code",
   "execution_count": 5,
   "metadata": {},
   "outputs": [
    {
     "data": {
      "text/html": [
       "<div>\n",
       "<style scoped>\n",
       "    .dataframe tbody tr th:only-of-type {\n",
       "        vertical-align: middle;\n",
       "    }\n",
       "\n",
       "    .dataframe tbody tr th {\n",
       "        vertical-align: top;\n",
       "    }\n",
       "\n",
       "    .dataframe thead th {\n",
       "        text-align: right;\n",
       "    }\n",
       "</style>\n",
       "<table border=\"1\" class=\"dataframe\">\n",
       "  <thead>\n",
       "    <tr style=\"text-align: right;\">\n",
       "      <th></th>\n",
       "      <th>#RequestID NbClients BottleneckBW BottleneckDelay BottleneckLoss DASHPolicy ClientResolution RequestDuration TCPOutputPacket TCPOutputDelay TCPOutputJitter TCPOutputPloss TCPInputPacket TCPInputDelay TCPInputJitter TCPInputPloss TCPInputRetrans StdInputRate 0_InputRateVariation 5_InputRateVariation 10_InputRateVariation 25_InputRateVariation 50_InputRateVariation 75_InputRateVariation 90_InputRateVariation 95_InputRateVariation 100_InputRateVariation StdInterATimesReq 0_InterATimesReq 5_InterATimesReq 10_InterATimesReq 25_InterATimesReq 50_InterATimesReq 75_InterATimesReq 90_InterATimesReq 95_InterATimesReq 100_InterATimesReq StartUpDelay AvgDownloadRate StdDownloadRate AvgBufferLevel StdBufferLevel StallEvents RebufferingRatio StallLabel TotalStallingTime AvgTimeStallingEvents AvgQualityIndex AvgVideoBitRate AvgVideoQualityVariation AvgDownloadBitRate</th>\n",
       "    </tr>\n",
       "  </thead>\n",
       "  <tbody>\n",
       "    <tr>\n",
       "      <th>0</th>\n",
       "      <td>1 11 15950000 1 0 RateBasedAdaptationLogic 640...</td>\n",
       "    </tr>\n",
       "    <tr>\n",
       "      <th>1</th>\n",
       "      <td>2 11 15950000 1 0 RateBasedAdaptationLogic 640...</td>\n",
       "    </tr>\n",
       "    <tr>\n",
       "      <th>2</th>\n",
       "      <td>3 11 15950000 1 0 RateBasedAdaptationLogic 640...</td>\n",
       "    </tr>\n",
       "    <tr>\n",
       "      <th>3</th>\n",
       "      <td>4 11 15950000 1 0 RateBasedAdaptationLogic 640...</td>\n",
       "    </tr>\n",
       "    <tr>\n",
       "      <th>4</th>\n",
       "      <td>5 11 15950000 1 0 RateBasedAdaptationLogic 640...</td>\n",
       "    </tr>\n",
       "    <tr>\n",
       "      <th>5</th>\n",
       "      <td>6 11 15950000 1 0 RateBasedAdaptationLogic 640...</td>\n",
       "    </tr>\n",
       "    <tr>\n",
       "      <th>6</th>\n",
       "      <td>7 11 15950000 1 0 RateBasedAdaptationLogic 640...</td>\n",
       "    </tr>\n",
       "    <tr>\n",
       "      <th>7</th>\n",
       "      <td>8 11 15950000 1 0 RateBasedAdaptationLogic 640...</td>\n",
       "    </tr>\n",
       "    <tr>\n",
       "      <th>8</th>\n",
       "      <td>9 11 15950000 1 0 RateBasedAdaptationLogic 640...</td>\n",
       "    </tr>\n",
       "    <tr>\n",
       "      <th>9</th>\n",
       "      <td>10 11 15950000 1 0 RateBasedAdaptationLogic 64...</td>\n",
       "    </tr>\n",
       "    <tr>\n",
       "      <th>10</th>\n",
       "      <td>11 11 15950000 1 0 RateBasedAdaptationLogic 64...</td>\n",
       "    </tr>\n",
       "    <tr>\n",
       "      <th>11</th>\n",
       "      <td>1 11 15950000 1 0.01 BufferBasedAdaptationLogi...</td>\n",
       "    </tr>\n",
       "    <tr>\n",
       "      <th>12</th>\n",
       "      <td>2 11 15950000 1 0.01 BufferBasedAdaptationLogi...</td>\n",
       "    </tr>\n",
       "    <tr>\n",
       "      <th>13</th>\n",
       "      <td>3 11 15950000 1 0.01 BufferBasedAdaptationLogi...</td>\n",
       "    </tr>\n",
       "    <tr>\n",
       "      <th>14</th>\n",
       "      <td>4 11 15950000 1 0.01 BufferBasedAdaptationLogi...</td>\n",
       "    </tr>\n",
       "    <tr>\n",
       "      <th>15</th>\n",
       "      <td>5 11 15950000 1 0.01 BufferBasedAdaptationLogi...</td>\n",
       "    </tr>\n",
       "    <tr>\n",
       "      <th>16</th>\n",
       "      <td>6 11 15950000 1 0.01 BufferBasedAdaptationLogi...</td>\n",
       "    </tr>\n",
       "    <tr>\n",
       "      <th>17</th>\n",
       "      <td>7 11 15950000 1 0.01 BufferBasedAdaptationLogi...</td>\n",
       "    </tr>\n",
       "    <tr>\n",
       "      <th>18</th>\n",
       "      <td>8 11 15950000 1 0.01 BufferBasedAdaptationLogi...</td>\n",
       "    </tr>\n",
       "    <tr>\n",
       "      <th>19</th>\n",
       "      <td>9 11 15950000 1 0.01 BufferBasedAdaptationLogi...</td>\n",
       "    </tr>\n",
       "  </tbody>\n",
       "</table>\n",
       "</div>"
      ],
      "text/plain": [
       "   #RequestID NbClients BottleneckBW BottleneckDelay BottleneckLoss DASHPolicy ClientResolution RequestDuration TCPOutputPacket TCPOutputDelay TCPOutputJitter TCPOutputPloss TCPInputPacket TCPInputDelay TCPInputJitter TCPInputPloss TCPInputRetrans StdInputRate 0_InputRateVariation 5_InputRateVariation 10_InputRateVariation 25_InputRateVariation 50_InputRateVariation 75_InputRateVariation 90_InputRateVariation 95_InputRateVariation 100_InputRateVariation StdInterATimesReq 0_InterATimesReq 5_InterATimesReq 10_InterATimesReq 25_InterATimesReq 50_InterATimesReq 75_InterATimesReq 90_InterATimesReq 95_InterATimesReq 100_InterATimesReq StartUpDelay AvgDownloadRate StdDownloadRate AvgBufferLevel StdBufferLevel StallEvents RebufferingRatio StallLabel TotalStallingTime AvgTimeStallingEvents AvgQualityIndex AvgVideoBitRate AvgVideoQualityVariation AvgDownloadBitRate\n",
       "0   1 11 15950000 1 0 RateBasedAdaptationLogic 640...                                                                                                                                                                                                                                                                                                                                                                                                                                                                                                                                                                                                                                                                                                                                                                                                                                              \n",
       "1   2 11 15950000 1 0 RateBasedAdaptationLogic 640...                                                                                                                                                                                                                                                                                                                                                                                                                                                                                                                                                                                                                                                                                                                                                                                                                                              \n",
       "2   3 11 15950000 1 0 RateBasedAdaptationLogic 640...                                                                                                                                                                                                                                                                                                                                                                                                                                                                                                                                                                                                                                                                                                                                                                                                                                              \n",
       "3   4 11 15950000 1 0 RateBasedAdaptationLogic 640...                                                                                                                                                                                                                                                                                                                                                                                                                                                                                                                                                                                                                                                                                                                                                                                                                                              \n",
       "4   5 11 15950000 1 0 RateBasedAdaptationLogic 640...                                                                                                                                                                                                                                                                                                                                                                                                                                                                                                                                                                                                                                                                                                                                                                                                                                              \n",
       "5   6 11 15950000 1 0 RateBasedAdaptationLogic 640...                                                                                                                                                                                                                                                                                                                                                                                                                                                                                                                                                                                                                                                                                                                                                                                                                                              \n",
       "6   7 11 15950000 1 0 RateBasedAdaptationLogic 640...                                                                                                                                                                                                                                                                                                                                                                                                                                                                                                                                                                                                                                                                                                                                                                                                                                              \n",
       "7   8 11 15950000 1 0 RateBasedAdaptationLogic 640...                                                                                                                                                                                                                                                                                                                                                                                                                                                                                                                                                                                                                                                                                                                                                                                                                                              \n",
       "8   9 11 15950000 1 0 RateBasedAdaptationLogic 640...                                                                                                                                                                                                                                                                                                                                                                                                                                                                                                                                                                                                                                                                                                                                                                                                                                              \n",
       "9   10 11 15950000 1 0 RateBasedAdaptationLogic 64...                                                                                                                                                                                                                                                                                                                                                                                                                                                                                                                                                                                                                                                                                                                                                                                                                                              \n",
       "10  11 11 15950000 1 0 RateBasedAdaptationLogic 64...                                                                                                                                                                                                                                                                                                                                                                                                                                                                                                                                                                                                                                                                                                                                                                                                                                              \n",
       "11  1 11 15950000 1 0.01 BufferBasedAdaptationLogi...                                                                                                                                                                                                                                                                                                                                                                                                                                                                                                                                                                                                                                                                                                                                                                                                                                              \n",
       "12  2 11 15950000 1 0.01 BufferBasedAdaptationLogi...                                                                                                                                                                                                                                                                                                                                                                                                                                                                                                                                                                                                                                                                                                                                                                                                                                              \n",
       "13  3 11 15950000 1 0.01 BufferBasedAdaptationLogi...                                                                                                                                                                                                                                                                                                                                                                                                                                                                                                                                                                                                                                                                                                                                                                                                                                              \n",
       "14  4 11 15950000 1 0.01 BufferBasedAdaptationLogi...                                                                                                                                                                                                                                                                                                                                                                                                                                                                                                                                                                                                                                                                                                                                                                                                                                              \n",
       "15  5 11 15950000 1 0.01 BufferBasedAdaptationLogi...                                                                                                                                                                                                                                                                                                                                                                                                                                                                                                                                                                                                                                                                                                                                                                                                                                              \n",
       "16  6 11 15950000 1 0.01 BufferBasedAdaptationLogi...                                                                                                                                                                                                                                                                                                                                                                                                                                                                                                                                                                                                                                                                                                                                                                                                                                              \n",
       "17  7 11 15950000 1 0.01 BufferBasedAdaptationLogi...                                                                                                                                                                                                                                                                                                                                                                                                                                                                                                                                                                                                                                                                                                                                                                                                                                              \n",
       "18  8 11 15950000 1 0.01 BufferBasedAdaptationLogi...                                                                                                                                                                                                                                                                                                                                                                                                                                                                                                                                                                                                                                                                                                                                                                                                                                              \n",
       "19  9 11 15950000 1 0.01 BufferBasedAdaptationLogi...                                                                                                                                                                                                                                                                                                                                                                                                                                                                                                                                                                                                                                                                                                                                                                                                                                              "
      ]
     },
     "execution_count": 5,
     "metadata": {},
     "output_type": "execute_result"
    }
   ],
   "source": [
    "qos_qoe= pd.read_csv('qosqoeNew.csv')\n",
    "qos_qoe.head(20)"
   ]
  },
  {
   "cell_type": "markdown",
   "metadata": {},
   "source": [
    "Step 2: Check the description of the dataset and also the column headers while dropping the unnecessary ones."
   ]
  },
  {
   "cell_type": "code",
   "execution_count": 6,
   "metadata": {},
   "outputs": [
    {
     "data": {
      "text/html": [
       "<div>\n",
       "<style scoped>\n",
       "    .dataframe tbody tr th:only-of-type {\n",
       "        vertical-align: middle;\n",
       "    }\n",
       "\n",
       "    .dataframe tbody tr th {\n",
       "        vertical-align: top;\n",
       "    }\n",
       "\n",
       "    .dataframe thead th {\n",
       "        text-align: right;\n",
       "    }\n",
       "</style>\n",
       "<table border=\"1\" class=\"dataframe\">\n",
       "  <thead>\n",
       "    <tr style=\"text-align: right;\">\n",
       "      <th></th>\n",
       "      <th>#RequestID NbClients BottleneckBW BottleneckDelay BottleneckLoss DASHPolicy ClientResolution RequestDuration TCPOutputPacket TCPOutputDelay TCPOutputJitter TCPOutputPloss TCPInputPacket TCPInputDelay TCPInputJitter TCPInputPloss TCPInputRetrans StdInputRate 0_InputRateVariation 5_InputRateVariation 10_InputRateVariation 25_InputRateVariation 50_InputRateVariation 75_InputRateVariation 90_InputRateVariation 95_InputRateVariation 100_InputRateVariation StdInterATimesReq 0_InterATimesReq 5_InterATimesReq 10_InterATimesReq 25_InterATimesReq 50_InterATimesReq 75_InterATimesReq 90_InterATimesReq 95_InterATimesReq 100_InterATimesReq StartUpDelay AvgDownloadRate StdDownloadRate AvgBufferLevel StdBufferLevel StallEvents RebufferingRatio StallLabel TotalStallingTime AvgTimeStallingEvents AvgQualityIndex AvgVideoBitRate AvgVideoQualityVariation AvgDownloadBitRate</th>\n",
       "    </tr>\n",
       "  </thead>\n",
       "  <tbody>\n",
       "    <tr>\n",
       "      <th>count</th>\n",
       "      <td>69129</td>\n",
       "    </tr>\n",
       "    <tr>\n",
       "      <th>unique</th>\n",
       "      <td>69129</td>\n",
       "    </tr>\n",
       "    <tr>\n",
       "      <th>top</th>\n",
       "      <td>22 71 575100000 51 0 RateBasedAdaptationLogic ...</td>\n",
       "    </tr>\n",
       "    <tr>\n",
       "      <th>freq</th>\n",
       "      <td>1</td>\n",
       "    </tr>\n",
       "  </tbody>\n",
       "</table>\n",
       "</div>"
      ],
      "text/plain": [
       "       #RequestID NbClients BottleneckBW BottleneckDelay BottleneckLoss DASHPolicy ClientResolution RequestDuration TCPOutputPacket TCPOutputDelay TCPOutputJitter TCPOutputPloss TCPInputPacket TCPInputDelay TCPInputJitter TCPInputPloss TCPInputRetrans StdInputRate 0_InputRateVariation 5_InputRateVariation 10_InputRateVariation 25_InputRateVariation 50_InputRateVariation 75_InputRateVariation 90_InputRateVariation 95_InputRateVariation 100_InputRateVariation StdInterATimesReq 0_InterATimesReq 5_InterATimesReq 10_InterATimesReq 25_InterATimesReq 50_InterATimesReq 75_InterATimesReq 90_InterATimesReq 95_InterATimesReq 100_InterATimesReq StartUpDelay AvgDownloadRate StdDownloadRate AvgBufferLevel StdBufferLevel StallEvents RebufferingRatio StallLabel TotalStallingTime AvgTimeStallingEvents AvgQualityIndex AvgVideoBitRate AvgVideoQualityVariation AvgDownloadBitRate\n",
       "count                                               69129                                                                                                                                                                                                                                                                                                                                                                                                                                                                                                                                                                                                                                                                                                                                                                                                                                              \n",
       "unique                                              69129                                                                                                                                                                                                                                                                                                                                                                                                                                                                                                                                                                                                                                                                                                                                                                                                                                              \n",
       "top     22 71 575100000 51 0 RateBasedAdaptationLogic ...                                                                                                                                                                                                                                                                                                                                                                                                                                                                                                                                                                                                                                                                                                                                                                                                                                              \n",
       "freq                                                    1                                                                                                                                                                                                                                                                                                                                                                                                                                                                                                                                                                                                                                                                                                                                                                                                                                              "
      ]
     },
     "execution_count": 6,
     "metadata": {},
     "output_type": "execute_result"
    }
   ],
   "source": [
    "qos_qoe.describe()\n",
    "\n"
   ]
  },
  {
   "cell_type": "markdown",
   "metadata": {},
   "source": [
    "Let's get the names of the columns out so we can rename"
   ]
  },
  {
   "cell_type": "code",
   "execution_count": 7,
   "metadata": {},
   "outputs": [
    {
     "data": {
      "text/plain": [
       "Index(['#RequestID NbClients BottleneckBW BottleneckDelay BottleneckLoss DASHPolicy ClientResolution RequestDuration TCPOutputPacket TCPOutputDelay TCPOutputJitter TCPOutputPloss TCPInputPacket TCPInputDelay TCPInputJitter TCPInputPloss TCPInputRetrans StdInputRate 0_InputRateVariation 5_InputRateVariation 10_InputRateVariation 25_InputRateVariation 50_InputRateVariation 75_InputRateVariation 90_InputRateVariation 95_InputRateVariation 100_InputRateVariation StdInterATimesReq 0_InterATimesReq 5_InterATimesReq 10_InterATimesReq 25_InterATimesReq 50_InterATimesReq 75_InterATimesReq 90_InterATimesReq 95_InterATimesReq 100_InterATimesReq StartUpDelay AvgDownloadRate StdDownloadRate AvgBufferLevel StdBufferLevel StallEvents RebufferingRatio StallLabel TotalStallingTime AvgTimeStallingEvents AvgQualityIndex AvgVideoBitRate AvgVideoQualityVariation AvgDownloadBitRate'], dtype='object')"
      ]
     },
     "execution_count": 7,
     "metadata": {},
     "output_type": "execute_result"
    }
   ],
   "source": [
    "qos_qoe.columns"
   ]
  },
  {
   "cell_type": "markdown",
   "metadata": {},
   "source": [
    "Renaming the columns we will need and drop the others\n"
   ]
  },
  {
   "cell_type": "code",
   "execution_count": 11,
   "metadata": {},
   "outputs": [],
   "source": [
    "new_columns = {'#RequestID': 'RequestID', 'NbClients':'NbClients', 'BottleneckBW':'BottleneckBW', 'BottleneckDelay': 'BottleneckDelay',\n",
    "       'BottleneckLoss': 'BottleneckLoss', 'DASHPolicy':'DASHPolicy', 'ClientResolution': 'ClientResolution', 'RequestDuration':'RequestDuration',\n",
    "       'TCPOutputPacket': 'TCPOutputPacket', 'TCPOutputDelay':'OutputDelay', 'TCPOutputJitter':'OutputJitter',\n",
    "       'TCPOutputPloss': 'Packetloss', 'TCPInputPacket':'InputPacket', 'TCPInputDelay':'InputDelay', 'TCPInputJitter':'InputJitter',\n",
    "       'TCPInputPloss':'InputPloss', 'TCPInputRetrans':'InputRetrans', 'StdInputRate':'StdInputRate',\n",
    "       '0_InputRateVariation':'InputRateVariation', '5_InputRateVariation':'InputRateVariation', '10_InputRateVariation':'InputRateVariation',\n",
    "       '25_InputRateVariation': 'InputRateVariation', '50_InputRateVariation':'InputRateVariation',\n",
    "       '75_InputRateVariation': 'InputRateVariation', '90_InputRateVariation':'InputRateVariation',\n",
    "       '95_InputRateVariation':'InputRateVariation', '100_InputRateVariation':'InputRateVariation', 'StdInterATimesReq':'StdInterATimesReq',\n",
    "       '0_InterATimesReq':'InterATimesReq', '5_InterATimesReq':'InterATimesReq', '10_InterATimesReq':'InterATimesReq',\n",
    "       '25_InterATimesReq':'InterReq', '50_InterATimesReq':'ATimesReq', '75_InterATimesReq':'TimesReq',\n",
    "       '90_InterATimesReq':'TimesReqq', '95_InterATimesReq':'TimesReqqq', '100_InterATimesReq':'TimesReqqqq',\n",
    "       'StartUpDelay':'StartUpDelay', 'AvgDownloadRate':'AvgDownloadRate', 'StdDownloadRate':'StdDownloadRate', 'AvgBufferLevel':'AvgBufferLevel',\n",
    "       'StdBufferLevel': 'BufferLevel', 'StallEvents':'StallEvents', 'RebufferingRatio':'Re-bufferingRatio', 'StallLabel':'StallLabel',\n",
    "       'TotalStallingTime':'TotalStallingTime', 'AvgTimeStallingEvents':'AvgTimeStallingEvents', 'AvgQualityIndex':'AvgQualityIndex',\n",
    "       'AvgVideoBitRate': 'AvgVideoBitRate', 'AvgVideoQualityVariation':'AvgVideoQualityVariation', 'AvgDownloadBitRate':'AvgDownloadBitRate'}"
   ]
  },
  {
   "cell_type": "code",
   "execution_count": 12,
   "metadata": {},
   "outputs": [],
   "source": [
    "qos_qoe.rename(columns = new_columns, inplace = True)"
   ]
  },
  {
   "cell_type": "code",
   "execution_count": 13,
   "metadata": {},
   "outputs": [
    {
     "data": {
      "text/plain": [
       "Index(['RequestID', 'NbClients', 'BottleneckBW', 'BottleneckDelay',\n",
       "       'BottleneckLoss', 'DASHPolicy', 'ClientResolution', 'RequestDuration',\n",
       "       'TCPOutputPacket', 'OutputDelay', 'OutputJitter', 'Packetloss',\n",
       "       'InputPacket', 'InputDelay', 'InputJitter', 'InputPloss',\n",
       "       'InputRetrans', 'StdInputRate', 'InputRateVariation',\n",
       "       'InputRateVariation', 'InputRateVariation', 'InputRateVariation',\n",
       "       'InputRateVariation', 'InputRateVariation', 'InputRateVariation',\n",
       "       'InputRateVariation', 'InputRateVariation', 'StdInterATimesReq',\n",
       "       'InterATimesReq', 'InterATimesReq', 'InterATimesReq', 'InterReq',\n",
       "       'ATimesReq', 'TimesReq', 'TimesReqq', 'TimesReqqq', 'TimesReqqqq',\n",
       "       'StartUpDelay', 'AvgDownloadRate', 'StdDownloadRate', 'AvgBufferLevel',\n",
       "       'BufferLevel', 'StallEvents', 'Re-bufferingRatio', 'StallLabel',\n",
       "       'TotalStallingTime', 'AvgTimeStallingEvents', 'AvgQualityIndex',\n",
       "       'AvgVideoBitRate', 'AvgVideoQualityVariation', 'AvgDownloadBitRate'],\n",
       "      dtype='object')"
      ]
     },
     "execution_count": 13,
     "metadata": {},
     "output_type": "execute_result"
    }
   ],
   "source": [
    "\n",
    "qos_qoe.columns"
   ]
  },
  {
   "cell_type": "code",
   "execution_count": 14,
   "metadata": {},
   "outputs": [],
   "source": [
    "qos_qoe = qos_qoe.drop(['RequestID', 'NbClients', 'BottleneckBW', 'BottleneckDelay',\n",
    "       'BottleneckLoss', 'DASHPolicy', 'ClientResolution','StdInputRate', 'InputRateVariation',\n",
    "       'InputRateVariation', 'InputRateVariation', 'InputRateVariation',\n",
    "       'InputRateVariation', 'InputRateVariation', 'InputRateVariation',\n",
    "       'InputRateVariation', 'InputRateVariation', 'StdInterATimesReq',\n",
    "       'InterATimesReq', 'InterATimesReq', 'InterATimesReq', 'InterReq',\n",
    "       'ATimesReq', 'TimesReq', 'TimesReqq', 'TimesReqqq', 'TimesReqqqq'], axis = 1)"
   ]
  },
  {
   "cell_type": "code",
   "execution_count": 16,
   "metadata": {},
   "outputs": [
    {
     "data": {
      "text/plain": [
       "Index(['RequestDuration', 'TCPOutputPacket', 'OutputDelay', 'OutputJitter',\n",
       "       'Packetloss', 'InputPacket', 'InputDelay', 'InputJitter', 'InputPloss',\n",
       "       'InputRetrans', 'StartUpDelay', 'AvgDownloadRate', 'StdDownloadRate',\n",
       "       'AvgBufferLevel', 'BufferLevel', 'StallEvents', 'Re-bufferingRatio',\n",
       "       'StallLabel', 'TotalStallingTime', 'AvgTimeStallingEvents',\n",
       "       'AvgQualityIndex', 'AvgVideoBitRate', 'AvgVideoQualityVariation',\n",
       "       'AvgDownloadBitRate'],\n",
       "      dtype='object')"
      ]
     },
     "execution_count": 16,
     "metadata": {},
     "output_type": "execute_result"
    }
   ],
   "source": [
    "qos_qoe.describe()\n",
    "qos_qoe.columns"
   ]
  },
  {
   "cell_type": "markdown",
   "metadata": {},
   "source": [
    "So the Qos metrics we have are: 'RequestDuration', 'TCPOutputPacket', 'OutputDelay', 'OutputJitter',\n",
    "       'Packetloss', 'InputPacket', 'InputDelay', 'InputJitter', 'InputPloss', while 'InputRetrans', 'StartUpDelay', 'AvgDownloadRate', 'StdDownloadRate','AvgBufferLevel', 'BufferLevel', 'StallEvents', 'Re-bufferingRatio','StallLabel', 'TotalStallingTime', 'AvgTimeStallingEvents','AvgQualityIndex', 'AvgVideoBitRate', 'AvgVideoQualityVariation','AvgDownloadBitRate' are the Qoe metrics."
   ]
  },
  {
   "cell_type": "code",
   "execution_count": null,
   "metadata": {},
   "outputs": [],
   "source": []
  }
 ],
 "metadata": {
  "interpreter": {
   "hash": "a3940f90ad98f7de2d1423f0c68fe9062c671a9b7606ec57465a65c5d6c428d0"
  },
  "kernelspec": {
   "display_name": "ven",
   "language": "python",
   "name": "ven"
  },
  "language_info": {
   "codemirror_mode": {
    "name": "ipython",
    "version": 3
   },
   "file_extension": ".py",
   "mimetype": "text/x-python",
   "name": "python",
   "nbconvert_exporter": "python",
   "pygments_lexer": "ipython3",
   "version": "3.8.3"
  }
 },
 "nbformat": 4,
 "nbformat_minor": 4
}
